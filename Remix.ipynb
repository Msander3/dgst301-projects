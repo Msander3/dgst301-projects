{
  "cells": [
    {
      "metadata": {
        "trusted": true,
        "scrolled": true
      },
      "cell_type": "code",
      "source": "!pip install textblob ",
      "execution_count": 5,
      "outputs": [
        {
          "output_type": "stream",
          "text": "Requirement already satisfied: textblob in /home/nbuser/anaconda3_501/lib/python3.6/site-packages (0.10.0)\r\nRequirement already satisfied: nltk>=3.0 in /home/nbuser/anaconda3_501/lib/python3.6/site-packages (from textblob) (3.2.4)\r\nRequirement already satisfied: six in /home/nbuser/anaconda3_501/lib/python3.6/site-packages (from nltk>=3.0->textblob) (1.11.0)\r\n",
          "name": "stdout"
        }
      ]
    },
    {
      "metadata": {
        "trusted": true
      },
      "cell_type": "code",
      "source": "import random \nfrom textblob import TextBlob\n\nwith open ('Remix.txt', 'r') as file:\n    text = file.read()\n    \nblob = TextBlob(text)\n\nadjectives = []\nnouns = []\nconjunction = []\npreposition = []\n\nfor word, pos in blob.tags:\n    if (pos == 'JJ'):\n        adjectives.append(word)\n    if (pos == 'NN'):\n        nouns.append(word)\n    if (pos == 'CC'):\n        conjunction.append(word)\n    if (pos == 'IN'):\n        preposition.append(word)\n        \n        \nfor i in range(1):\n    a = random.choice(adjectives)\n    n = random.choice(nouns)\n    c = random.choice(conjunction)\n    p = random.choice(preposition)\n    print(a,n,p)\n    \nfor i in range(1):\n    p = random.choice(preposition)\n    print(p)\n    \nfor i in range(1):\n    a = random.choice(adjectives)\n    n = random.choice(nouns)\n    print(a,n + \".\")\n    \nfor i in range(2):\n    print(a,c)\n    a = random.choice(adjectives)\n    print(a + \".\")\n    \nfor i in range(1):\n    a = random.choice(adjectives)\n    n = random.choice(nouns)\n    c = random.choice(conjunction)\n    p = random.choice(preposition)\n    print(a,n,p)\n    \nfor i in range(1):\n    p = random.choice(preposition)\n    print(p)\n    \nfor i in range(1):\n    a = random.choice(adjectives)\n    n = random.choice(nouns)\n    print(a,n + \".\")\n    \nfor i in range(2):\n    print(a,c)\n    a = random.choice(adjectives)\n    print(a + \"...\")\n    \n        \n\n\n",
      "execution_count": 97,
      "outputs": [
        {
          "output_type": "stream",
          "text": "other horror of\nof\ngreat Boy.\ngreat and\nblue.\nblue and\nGrisly-beard.\nfree princess as\nwith\nsecond cat.\nsecond and\nhazel-tree...\nhazel-tree and\nlonely...\n",
          "name": "stdout"
        }
      ]
    },
    {
      "metadata": {
        "trusted": true
      },
      "cell_type": "code",
      "source": "",
      "execution_count": null,
      "outputs": []
    }
  ],
  "metadata": {
    "kernelspec": {
      "name": "python36",
      "display_name": "Python 3.6",
      "language": "python"
    },
    "language_info": {
      "mimetype": "text/x-python",
      "nbconvert_exporter": "python",
      "name": "python",
      "pygments_lexer": "ipython3",
      "version": "3.6.6",
      "file_extension": ".py",
      "codemirror_mode": {
        "version": 3,
        "name": "ipython"
      }
    }
  },
  "nbformat": 4,
  "nbformat_minor": 2
}